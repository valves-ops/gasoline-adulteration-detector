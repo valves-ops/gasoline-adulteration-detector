{
 "cells": [
  {
   "cell_type": "code",
   "execution_count": 23,
   "metadata": {},
   "outputs": [],
   "source": [
    "import numpy as np\n",
    "from matplotlib import pyplot as plt\n",
    "from scipy.optimize import curve_fit\n",
    "import seaborn as sns\n",
    "import pandas as pd"
   ]
  },
  {
   "cell_type": "code",
   "execution_count": 8,
   "metadata": {},
   "outputs": [],
   "source": [
    "def curve(x, a ,b, c):\n",
    "    y = a + b*np.exp(-c*(x))\n",
    "    return y"
   ]
  },
  {
   "cell_type": "code",
   "execution_count": 11,
   "metadata": {},
   "outputs": [],
   "source": [
    "x = np.array([57.41, 55.19, 49.13, 177.8, 171.63, 148.6, 218.22, 218.9, 183, 263, 258.4, 223, 373.8, 345.84, 274])\n",
    "y = np.array([0.31, 0.31, 0.31, 0.3, 0.3, 0.3, 0.29, 0.29, 0.29, 0.28, 0.28, 0.28, 0.27, 0.27, 0.27])"
   ]
  },
  {
   "cell_type": "code",
   "execution_count": 194,
   "metadata": {},
   "outputs": [],
   "source": [
    "## Mean of values in all positions\n",
    "x = np.array([np.mean([165.87, 144.87,139.14 ]), np.mean([177.8, 171.63, 148.6]), np.mean([218.22, 218.9, 183]), np.mean([263, 258.4, 223]), np.mean([373.8, 345.84, 274])])/1000\n",
    "y = np.array([0.3276, 0.317, 0.3, 0.2855, 0.27])"
   ]
  },
  {
   "cell_type": "code",
   "execution_count": 4,
   "metadata": {},
   "outputs": [],
   "source": [
    "## Touching glass positions\n",
    "x = np.array([np.mean([165.87, 144.87]), np.mean([177.8, 171.63]), np.mean([218.22, 218.9]), np.mean([263, 258.4]), np.mean([373.8, 345.84])])/1000\n",
    "y = np.array([0.3276, 0.317, 0.3, 0.286, 0.27])"
   ]
  },
  {
   "cell_type": "code",
   "execution_count": 173,
   "metadata": {},
   "outputs": [],
   "source": [
    "x = np.array([np.mean([177.8, 171.63, 148.6]), np.mean([218.22, 218.9, 183]), np.mean([263, 258.4, 223]), np.mean([373.8, 345.84, 274])])/1000\n",
    "y = np.array([0.317, 0.3, 0.2855, 0.27])"
   ]
  },
  {
   "cell_type": "code",
   "execution_count": 5,
   "metadata": {},
   "outputs": [
    {
     "data": {
      "text/plain": [
       "Text(0, 0.5, 'Teor de Etanol (%)')"
      ]
     },
     "execution_count": 5,
     "metadata": {},
     "output_type": "execute_result"
    },
    {
     "data": {
      "image/png": "[encoded data removed]",
      "text/plain": [
       "<Figure size 432x288 with 1 Axes>"
      ]
     },
     "metadata": {
      "needs_background": "light"
     },
     "output_type": "display_data"
    }
   ],
   "source": [
    "plt.scatter(x,y)\n",
    "plt.grid()\n",
    "plt.xlabel('Resistência (MOhms)')\n",
    "plt.ylabel('Teor de Etanol (%)')"
   ]
  },
  {
   "cell_type": "code",
   "execution_count": 9,
   "metadata": {},
   "outputs": [
    {
     "data": {
      "text/plain": [
       "array([0.25579478, 0.24802099, 7.98099304])"
      ]
     },
     "execution_count": 9,
     "metadata": {},
     "output_type": "execute_result"
    }
   ],
   "source": [
    "params, param_cov = curve_fit(curve, x, y)\n",
    "params"
   ]
  },
  {
   "cell_type": "code",
   "execution_count": 10,
   "metadata": {},
   "outputs": [],
   "source": [
    "x_lin = np.linspace(140, 380, 40)/1000"
   ]
  },
  {
   "cell_type": "code",
   "execution_count": 204,
   "metadata": {},
   "outputs": [
    {
     "data": {
      "text/plain": [
       "array([0.15537 , 0.174715, 0.21856 , 0.2607  , 0.35982 ])"
      ]
     },
     "execution_count": 204,
     "metadata": {},
     "output_type": "execute_result"
    }
   ],
   "source": [
    "x"
   ]
  },
  {
   "cell_type": "code",
   "execution_count": 162,
   "metadata": {},
   "outputs": [
    {
     "data": {
      "text/plain": [
       "array([0.33  , 0.317 , 0.3   , 0.2855, 0.27  ])"
      ]
     },
     "execution_count": 162,
     "metadata": {},
     "output_type": "execute_result"
    }
   ],
   "source": [
    "y"
   ]
  },
  {
   "cell_type": "code",
   "execution_count": 190,
   "metadata": {},
   "outputs": [
    {
     "data": {
      "text/plain": [
       "array([0.14      , 0.14615385, 0.15230769, 0.15846154, 0.16461538,\n",
       "       0.17076923, 0.17692308, 0.18307692, 0.18923077, 0.19538462,\n",
       "       0.20153846, 0.20769231, 0.21384615, 0.22      , 0.22615385,\n",
       "       0.23230769, 0.23846154, 0.24461538, 0.25076923, 0.25692308,\n",
       "       0.26307692, 0.26923077, 0.27538462, 0.28153846, 0.28769231,\n",
       "       0.29384615, 0.3       , 0.30615385, 0.31230769, 0.31846154,\n",
       "       0.32461538, 0.33076923, 0.33692308, 0.34307692, 0.34923077,\n",
       "       0.35538462, 0.36153846, 0.36769231, 0.37384615, 0.38      ])"
      ]
     },
     "execution_count": 190,
     "metadata": {},
     "output_type": "execute_result"
    }
   ],
   "source": [
    "x_lin"
   ]
  },
  {
   "cell_type": "code",
   "execution_count": 11,
   "metadata": {},
   "outputs": [],
   "source": [
    "y_lin = curve(x_lin, *params)"
   ]
  },
  {
   "cell_type": "code",
   "execution_count": 13,
   "metadata": {},
   "outputs": [
    {
     "data": {
      "text/plain": [
       "Text(0, 0.5, 'Teor de Etanol (%)')"
      ]
     },
     "execution_count": 13,
     "metadata": {},
     "output_type": "execute_result"
    },
    {
     "data": {
      "image/png": "[encoded data removed]",
      "text/plain": [
       "<Figure size 432x288 with 1 Axes>"
      ]
     },
     "metadata": {
      "needs_background": "light"
     },
     "output_type": "display_data"
    }
   ],
   "source": [
    "plt.plot(x_lin, y_lin)\n",
    "plt.scatter(x, y)\n",
    "plt.grid()\n",
    "plt.xlabel('Resistência (MOhms)')\n",
    "plt.ylabel('Teor de Etanol (%)')"
   ]
  },
  {
   "cell_type": "code",
   "execution_count": 14,
   "metadata": {},
   "outputs": [
    {
     "data": {
      "text/plain": [
       "array([[32.18, 33.38, 33.75, 32.8 , 32.78, 32.85, 32.86, 33.38, 32.61],\n",
       "       [31.58, 31.88, 33.16, 31.92, 31.9 , 32.7 , 32.72, 33.7 , 34.04],\n",
       "       [29.93, 29.9 , 31.34, 30.08, 30.03, 30.25, 30.28, 31.9 , 31.42],\n",
       "       [28.62, 28.73, 29.76, 28.81, 28.83, 29.2 , 29.21, 30.14, 30.  ],\n",
       "       [26.84, 27.  , 26.97, 27.43, 27.44, 28.57, 28.59, 27.15, 28.36]])"
      ]
     },
     "execution_count": 14,
     "metadata": {},
     "output_type": "execute_result"
    }
   ],
   "source": [
    "medidas = np.array([curve(np.array([165.87, 144.87,139.14, 154.7, 154.89, 153.7, 153.66, 144.99, 158.03])/1000, *params),\n",
    "                    curve(np.array([177.8, 171.63, 148.6, 170.92, 171.21, 156.3, 155.98, 139.92, 134.69])/1000, *params), \n",
    "                    curve(np.array([218.22, 218.9, 183, 213.88, 215.30, 209.12, 208.31, 171.32, 181.29])/1000, *params), \n",
    "                    curve(np.array([263, 258.4, 223, 255.34, 254.72, 241.08, 240.63, 212.32, 216.04])/1000, *params), \n",
    "                    curve(np.array([373.8, 357.96, 361, 325.01, 324.48, 265.02, 264.35, 345.84, 274])/1000, *params)])\n",
    "np.round(medidas*100, 2)"
   ]
  },
  {
   "cell_type": "code",
   "execution_count": 15,
   "metadata": {},
   "outputs": [
    {
     "data": {
      "text/plain": [
       "array([0.45, 0.82, 0.72, 0.54, 0.67])"
      ]
     },
     "execution_count": 15,
     "metadata": {},
     "output_type": "execute_result"
    }
   ],
   "source": [
    "# STD per sample\n",
    "stds = np.std(medidas*100, axis=1)\n",
    "np.round(stds, 2)"
   ]
  },
  {
   "cell_type": "code",
   "execution_count": 16,
   "metadata": {},
   "outputs": [
    {
     "data": {
      "text/plain": [
       "0.6413357518288203"
      ]
     },
     "execution_count": 16,
     "metadata": {},
     "output_type": "execute_result"
    }
   ],
   "source": [
    "# Average STD across all samples\n",
    "avg_std = np.mean(stds)\n",
    "avg_std"
   ]
  },
  {
   "cell_type": "code",
   "execution_count": 18,
   "metadata": {},
   "outputs": [
    {
     "data": {
      "text/plain": [
       "array([0.84233224, 2.14471083, 1.58766116, 1.47513176, 1.55778387])"
      ]
     },
     "execution_count": 18,
     "metadata": {},
     "output_type": "execute_result"
    }
   ],
   "source": [
    "# STD per sample without average point estimation\n",
    "std_real_avg = np.sqrt(np.sum((medidas - np.array([y]).T)**2, axis=1)/3)*100\n",
    "std_real_avg"
   ]
  },
  {
   "cell_type": "code",
   "execution_count": 19,
   "metadata": {},
   "outputs": [
    {
     "data": {
      "text/plain": [
       "1.5215239706669252"
      ]
     },
     "execution_count": 19,
     "metadata": {},
     "output_type": "execute_result"
    }
   ],
   "source": [
    "# Average STD across all samples without average point estimation\n",
    "avg_std_real_avg = np.mean(std_real_avg)\n",
    "avg_std_real_avg"
   ]
  },
  {
   "cell_type": "code",
   "execution_count": 20,
   "metadata": {},
   "outputs": [
    {
     "data": {
      "text/plain": [
       "3.0430479413338505"
      ]
     },
     "execution_count": 20,
     "metadata": {},
     "output_type": "execute_result"
    }
   ],
   "source": [
    "2*avg_std_real_avg # 95% CI"
   ]
  },
  {
   "cell_type": "code",
   "execution_count": 24,
   "metadata": {},
   "outputs": [
    {
     "data": {
      "text/html": [
       "<div>\n",
       "<style scoped>\n",
       "    .dataframe tbody tr th:only-of-type {\n",
       "        vertical-align: middle;\n",
       "    }\n",
       "\n",
       "    .dataframe tbody tr th {\n",
       "        vertical-align: top;\n",
       "    }\n",
       "\n",
       "    .dataframe thead th {\n",
       "        text-align: right;\n",
       "    }\n",
       "</style>\n",
       "<table border=\"1\" class=\"dataframe\">\n",
       "  <thead>\n",
       "    <tr style=\"text-align: right;\">\n",
       "      <th></th>\n",
       "      <th>32.7%</th>\n",
       "      <th>31.7%</th>\n",
       "      <th>30.0%</th>\n",
       "      <th>28.6%</th>\n",
       "      <th>27.0%</th>\n",
       "    </tr>\n",
       "  </thead>\n",
       "  <tbody>\n",
       "    <tr>\n",
       "      <th>0</th>\n",
       "      <td>0.321798</td>\n",
       "      <td>0.315804</td>\n",
       "      <td>0.299257</td>\n",
       "      <td>0.286197</td>\n",
       "      <td>0.268351</td>\n",
       "    </tr>\n",
       "    <tr>\n",
       "      <th>1</th>\n",
       "      <td>0.333841</td>\n",
       "      <td>0.318833</td>\n",
       "      <td>0.299022</td>\n",
       "      <td>0.287334</td>\n",
       "      <td>0.270043</td>\n",
       "    </tr>\n",
       "    <tr>\n",
       "      <th>2</th>\n",
       "      <td>0.337493</td>\n",
       "      <td>0.331552</td>\n",
       "      <td>0.313364</td>\n",
       "      <td>0.297631</td>\n",
       "      <td>0.269702</td>\n",
       "    </tr>\n",
       "    <tr>\n",
       "      <th>3</th>\n",
       "      <td>0.327952</td>\n",
       "      <td>0.319191</td>\n",
       "      <td>0.300789</td>\n",
       "      <td>0.288113</td>\n",
       "      <td>0.274329</td>\n",
       "    </tr>\n",
       "    <tr>\n",
       "      <th>4</th>\n",
       "      <td>0.327843</td>\n",
       "      <td>0.319044</td>\n",
       "      <td>0.300282</td>\n",
       "      <td>0.288274</td>\n",
       "      <td>0.274407</td>\n",
       "    </tr>\n",
       "  </tbody>\n",
       "</table>\n",
       "</div>"
      ],
      "text/plain": [
       "      32.7%     31.7%     30.0%     28.6%     27.0%\n",
       "0  0.321798  0.315804  0.299257  0.286197  0.268351\n",
       "1  0.333841  0.318833  0.299022  0.287334  0.270043\n",
       "2  0.337493  0.331552  0.313364  0.297631  0.269702\n",
       "3  0.327952  0.319191  0.300789  0.288113  0.274329\n",
       "4  0.327843  0.319044  0.300282  0.288274  0.274407"
      ]
     },
     "execution_count": 24,
     "metadata": {},
     "output_type": "execute_result"
    }
   ],
   "source": [
    "medidas_df = pd.DataFrame(medidas.T)\n",
    "medidas_df.columns = ['32.7%', '31.7%', '30.0%', '28.6%', '27.0%']\n",
    "medidas_df.head()"
   ]
  },
  {
   "cell_type": "code",
   "execution_count": 25,
   "metadata": {},
   "outputs": [
    {
     "data": {
      "image/png": "[encoded data removed]",
      "text/plain": [
       "<Figure size 432x288 with 1 Axes>"
      ]
     },
     "metadata": {
      "needs_background": "light"
     },
     "output_type": "display_data"
    }
   ],
   "source": [
    "ax = sns.boxplot(data=medidas_df)\n",
    "ax.grid(axis='y')"
   ]
  }
 ],
 "metadata": {
  "kernelspec": {
   "display_name": "Python 3",
   "language": "python",
   "name": "python3"
  },
  "language_info": {
   "codemirror_mode": {
    "name": "ipython",
    "version": 3
   },
   "file_extension": ".py",
   "mimetype": "text/x-python",
   "name": "python",
   "nbconvert_exporter": "python",
   "pygments_lexer": "ipython3",
   "version": "3.6.3"
  },
  "toc": {
   "base_numbering": 1,
   "nav_menu": {},
   "number_sections": true,
   "sideBar": true,
   "skip_h1_title": false,
   "title_cell": "Table of Contents",
   "title_sidebar": "Contents",
   "toc_cell": false,
   "toc_position": {},
   "toc_section_display": true,
   "toc_window_display": false
  }
 },
 "nbformat": 4,
 "nbformat_minor": 2
}
